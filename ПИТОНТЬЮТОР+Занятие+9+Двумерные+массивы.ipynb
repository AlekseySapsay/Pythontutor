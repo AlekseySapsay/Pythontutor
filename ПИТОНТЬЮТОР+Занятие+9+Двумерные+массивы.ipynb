{
 "cells": [
  {
   "cell_type": "markdown",
   "metadata": {},
   "source": [
    "Занятие 9. Двумерные массивы\n",
    "Задача «Максимум»\n",
    "Условие\n",
    "Найдите индексы первого вхождения максимального элемента. Выведите два числа: номер строки и номер столбца, в которых стоит наибольший элемент в двумерном массиве. Если таких элементов несколько, то выводится тот, у которого меньше номер строки, а если номера строк равны то тот, у которого меньше номер столбца.\n",
    "\n",
    "Программа получает на вход размеры массива n и m, затем n строк по m чисел в каждой."
   ]
  },
  {
   "cell_type": "code",
   "execution_count": null,
   "metadata": {
    "collapsed": true
   },
   "outputs": [],
   "source": [
    "n,m=[int(i) for i in input().split()]\n",
    "a=[[int(i) for i in input().split()] for j in range(n)]\n",
    "\n",
    "row_max,col_max=0,0\n",
    "element_max=a[row_max][col_max]\n",
    "\n",
    "for i in range(n):\n",
    "    for j in range(m):\n",
    "        if element_max<a[i][j]:\n",
    "            element_max=a[i][j]\n",
    "            row_max,col_max=i,j\n",
    "print(row_max,col_max)"
   ]
  },
  {
   "cell_type": "markdown",
   "metadata": {},
   "source": [
    "Занятие 9. Двумерные массивы\n",
    "Задача «Снежинка»\n",
    "Условие\n",
    "Дано нечетное число n. Создайте двумерный массив из n×n элементов, заполнив его символами \".\" (каждый элемент массива является строкой из одного символа). Затем заполните символами \"*\" среднюю строку массива, средний столбец массива, главную диагональ и побочную диагональ. В результате единицы в массиве должны образовывать изображение звездочки. Выведите полученный массив на экран, разделяя элементы массива пробелами."
   ]
  },
  {
   "cell_type": "code",
   "execution_count": null,
   "metadata": {
    "collapsed": true
   },
   "outputs": [],
   "source": [
    "n=int(input())\n",
    "p=n//2\n",
    "a=[[\".\" for i in range(n)] for i in range(n)]\n",
    "#print(a)\n",
    "for i in range(n):\n",
    "    for j in range(n):\n",
    "        a[i][i]=\"*\"\n",
    "        a[n-i-1][i]=\"*\"\n",
    "        a[i][p]=\"*\"\n",
    "        a[p][j]=\"*\"\n",
    "        \n",
    "for row in a:\n",
    "    print(\" \".join(row))"
   ]
  },
  {
   "cell_type": "markdown",
   "metadata": {},
   "source": [
    "Занятие 9. Двумерные массивы\n",
    "Задача «Шахматная доска»\n",
    "Условие\n",
    "Даны два числа n и m. Создайте двумерный массив размером n×m и заполните его символами \".\" и \"*\" в шахматном порядке. В левом верхнем углу должна стоять точка.\n",
    "\n"
   ]
  },
  {
   "cell_type": "code",
   "execution_count": null,
   "metadata": {
    "collapsed": true
   },
   "outputs": [],
   "source": [
    "n,m=[int(i) for i in input().split()]\n",
    "a=[[\".\"  for i in range(m)] for i in range (n)]\n",
    "\n",
    "for i in range(n):\n",
    "    for j in range(m):\n",
    "        if ((i==0 or i%2==0) and j%2!=0) or (i%2!=0 and j%2==0):\n",
    "            a[i][j]=\"*\"\n",
    "        \n",
    "for element in a:\n",
    "    print(\" \".join(element))\n"
   ]
  },
  {
   "cell_type": "markdown",
   "metadata": {},
   "source": [
    "Занятие 9. Двумерные массивы\n",
    "Задача «Диагонали, параллельные главной»\n",
    "Условие\n",
    "Дано число n. Создайте массив размером n×n и заполните его по следующему правилу. На главной диагонали должны быть записаны числа 0. На двух диагоналях, прилегающих к главной, числа 1. На следующих двух диагоналях числа 2, и т.д."
   ]
  },
  {
   "cell_type": "code",
   "execution_count": null,
   "metadata": {
    "collapsed": true
   },
   "outputs": [],
   "source": [
    "n = int(input())\n",
    "a = [[abs(i - j) for j in range(n)] for i in range(n)]\n",
    "for row in a:\n",
    "    print(' '.join([str(i) for i in row]))\n"
   ]
  },
  {
   "cell_type": "markdown",
   "metadata": {
    "collapsed": true
   },
   "source": [
    "Занятие 9. Двумерные массивы\n",
    "Задача «Побочная диагональ»\n",
    "Условие\n",
    "Дано число n. Создайте массив размером n×n и заполните его по следующему правилу:\n",
    "\n",
    "Числа на диагонали, идущей из правого верхнего в левый нижний угол равны 1.\n",
    "\n",
    "Числа, стоящие выше этой диагонали, равны 0.\n",
    "\n",
    "Числа, стоящие ниже этой диагонали, равны 2.\n",
    "\n",
    "Полученный массив выведите на экран. Числа в строке разделяйте одним пробелом."
   ]
  },
  {
   "cell_type": "code",
   "execution_count": null,
   "metadata": {
    "collapsed": true
   },
   "outputs": [],
   "source": [
    "n=int(input())\n",
    "a=[[0 for i in range(n)]for s in range(n)]\n",
    "for i in range(n):\n",
    "    for j in range(n):\n",
    "        if i+j==n-1:\n",
    "            a[i][j]=1\n",
    "        elif i+j>n-1:\n",
    "            a[i][j]=2\n",
    "for row in a:\n",
    "    print(' '.join([str(s) for s in row]))"
   ]
  },
  {
   "cell_type": "markdown",
   "metadata": {},
   "source": [
    "Занятие 9. Двумерные массивы\n",
    "Задача «Поменять столбцы»\n",
    "Условие\n",
    "Дан двумерный массив и два числа: i и j. Поменяйте в массиве столбцы с номерами i и j и выведите результат.\n",
    "\n",
    "Программа получает на вход размеры массива n и m, затем элементы массива, затем числа i и j.\n",
    "\n",
    "Решение оформите в виде функции swap_columns(a, i, j).\n",
    "\n"
   ]
  },
  {
   "cell_type": "code",
   "execution_count": null,
   "metadata": {
    "collapsed": true
   },
   "outputs": [],
   "source": [
    "def swap_columns(a, i, j):\n",
    "    for row in a:\n",
    "        row[i], row[j] = row[j], row[i]\n",
    "    return a\n",
    "\n",
    "n, m = [int(k) for k in input().split()]\n",
    "a = [[int(j) for j in input().split()] for i in range(n)]\n",
    "i, j = [int(k) for k in input().split()]\n",
    "\n",
    "for row in swap_columns(a, i, j):\n",
    "    print(' '.join([str(i) for i in row]))\n"
   ]
  }
 ],
 "metadata": {
  "kernelspec": {
   "display_name": "Python 3",
   "language": "python",
   "name": "python3"
  },
  "language_info": {
   "codemirror_mode": {
    "name": "ipython",
    "version": 3
   },
   "file_extension": ".py",
   "mimetype": "text/x-python",
   "name": "python",
   "nbconvert_exporter": "python",
   "pygments_lexer": "ipython3",
   "version": "3.6.6"
  }
 },
 "nbformat": 4,
 "nbformat_minor": 2
}
