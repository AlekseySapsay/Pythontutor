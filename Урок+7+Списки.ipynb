{
 "cells": [
  {
   "cell_type": "markdown",
   "metadata": {},
   "source": [
    "Занятие 7. Списки\n",
    "Задача «Четные индексы»\n",
    "Условие\n",
    "Выведите все элементы списка с четными индексами (то есть A[0], A[2], A[4], ...)."
   ]
  },
  {
   "cell_type": "code",
   "execution_count": null,
   "metadata": {
    "collapsed": true
   },
   "outputs": [],
   "source": [
    "a=input().split()\n",
    "for i in range(len(a)):\n",
    "    a[i]=int(a[i])\n",
    "    if i==0 or i%2==0:\n",
    "        print(a[i])\n"
   ]
  },
  {
   "cell_type": "markdown",
   "metadata": {},
   "source": [
    "Занятие 7. Списки\n",
    "Задача «Четные элементы»\n",
    "Условие\n",
    "Выведите все четные элементы списка. При этом используйте цикл for, перебирающий элементы списка, а не их индексы!"
   ]
  },
  {
   "cell_type": "code",
   "execution_count": null,
   "metadata": {
    "collapsed": true
   },
   "outputs": [],
   "source": [
    "c=input().split()\n",
    "\n",
    "for k in range(len(c)):\n",
    "    c[k]=int(c[k])\n",
    "\n",
    "    if c[k]%2==0:\n",
    "        print(c[k])\n"
   ]
  },
  {
   "cell_type": "markdown",
   "metadata": {},
   "source": [
    "Занятие 7. Списки\n",
    "Задача «Больше предыдущего»\n",
    "Условие\n",
    "Дан список чисел. Выведите все элементы списка, которые больше предыдущего элемента."
   ]
  },
  {
   "cell_type": "code",
   "execution_count": null,
   "metadata": {
    "collapsed": true
   },
   "outputs": [],
   "source": [
    "a=input().split()\n",
    "for e in range(len(a)):\n",
    "    a[e]=int(a[e])\n",
    "for e in range(1,len(a)):\n",
    "    if a[e]>a[e-1]:\n",
    "        print(a[e],end=\" \")\n",
    "\"\"\"\n",
    "тот же код, написанный через генераторы\n",
    "a=[int(e) for e in input().split()]\n",
    "for e in range(1,len(a)):\n",
    "    if a[e]>a[e-1]:\n",
    "        print(a[e],end=\" \")\n",
    "\"\"\""
   ]
  },
  {
   "cell_type": "markdown",
   "metadata": {},
   "source": [
    "Занятие 7. Списки\n",
    "Задача «Соседи одного знака»\n",
    "Условие\n",
    "Дан список чисел. Если в нем есть два соседних элемента одного знака, выведите эти числа. Если соседних элементов одного знака нет — не выводите ничего. Если таких пар соседей несколько — выведите первую пару."
   ]
  },
  {
   "cell_type": "code",
   "execution_count": null,
   "metadata": {
    "collapsed": true
   },
   "outputs": [],
   "source": [
    "a=[int(s) for s in input().split()]\n",
    "for i in range(1,len(a)):\n",
    "    if a[i]*a[i-1]>0:\n",
    "        print(a[i-1],a[i])\n",
    "        break"
   ]
  },
  {
   "cell_type": "markdown",
   "metadata": {},
   "source": [
    "Занятие 7. Списки\n",
    "Задача «Больше своих соседей»\n",
    "Условие\n",
    "Дан список чисел. Определите, сколько в этом списке элементов, которые больше двух своих соседей, и выведите количество таких элементов. Крайние элементы списка никогда не учитываются, поскольку у них недостаточно соседей."
   ]
  },
  {
   "cell_type": "code",
   "execution_count": null,
   "metadata": {
    "collapsed": true
   },
   "outputs": [],
   "source": [
    "a=[int(s) for s in input().split()]\n",
    "n=0\n",
    "for i in range(1,len(a)-1):\n",
    "    if a[i]>a[i-1] and a[i]>a[i+1]:\n",
    "        n+=1\n",
    "print(n)"
   ]
  },
  {
   "cell_type": "markdown",
   "metadata": {},
   "source": [
    "Занятие 7. Списки\n",
    "Задача «Наибольший элемент»\n",
    "Условие\n",
    "Дан список чисел. Выведите значение наибольшего элемента в списке, а затем индекс этого элемента в списке. Если наибольших элементов несколько, выведите индекс первого из них"
   ]
  },
  {
   "cell_type": "code",
   "execution_count": null,
   "metadata": {
    "collapsed": true
   },
   "outputs": [],
   "source": [
    "a=[int(s) for s in input().split()]\n",
    "index=0\n",
    "max=a[0]\n",
    "\n",
    "for i in range(1,len(a)):\n",
    "    if a[i]>max:\n",
    "        index=i\n",
    "        max=a[i]\n",
    "print(max,index)"
   ]
  },
  {
   "cell_type": "markdown",
   "metadata": {},
   "source": [
    "Занятие 7. Списки\n",
    "Задача «Шеренга»\n",
    "Условие\n",
    "Петя перешёл в другую школу. На уроке физкультуры ему понадобилось определить своё место в строю. Помогите ему это сделать.\n",
    "Программа получает на вход невозрастающую последовательность натуральных чисел, означающих рост каждого человека в строю. После этого вводится число X – рост Пети. Все числа во входных данных натуральные и не превышают 200.\n",
    "\n",
    "Выведите номер, под которым Петя должен встать в строй. Если в строю есть люди с одинаковым ростом, таким же, как у Пети, то он должен встать после них."
   ]
  },
  {
   "cell_type": "code",
   "execution_count": null,
   "metadata": {
    "collapsed": true
   },
   "outputs": [],
   "source": [
    "a=[int(s) for s in input().split()]\n",
    "x=int(input())\n",
    "index=len(a)+1\n",
    "for i in range(len(a)):\n",
    "    if x>a[i]:\n",
    "        index=i+1\n",
    "        break\n",
    "print(index)"
   ]
  },
  {
   "cell_type": "markdown",
   "metadata": {},
   "source": [
    "Занятие 7. Списки\n",
    "Задача «Количество различных элементов»\n",
    "Условие\n",
    "Дан список, упорядоченный по неубыванию элементов в нем. Определите, сколько в нем различных элементов."
   ]
  },
  {
   "cell_type": "code",
   "execution_count": null,
   "metadata": {
    "collapsed": true
   },
   "outputs": [],
   "source": [
    "a=[int(s)for s in input().split()]\n",
    "counter=0\n",
    "for i in range(1,len(a)):\n",
    "    if a[i]!=a[i-1]:\n",
    "        counter+=1\n",
    "print(counter+1)"
   ]
  },
  {
   "cell_type": "markdown",
   "metadata": {},
   "source": [
    "Занятие 7. Списки\n",
    "Задача «Переставить соседние»\n",
    "Условие\n",
    "Переставьте соседние элементы списка (A[0] c A[1], A[2] c A[3] и т. д.). Если элементов нечетное число, то последний элемент остается на своем месте."
   ]
  },
  {
   "cell_type": "code",
   "execution_count": null,
   "metadata": {
    "collapsed": true
   },
   "outputs": [],
   "source": [
    "a=[int(x) for x in input().split()]\n",
    "for i in range(0,len(a)-1,2):\n",
    "    a[i],a[i+1]=a[i+1],a[i]\n",
    "print(\" \".join(str(i)for i in a))"
   ]
  },
  {
   "cell_type": "markdown",
   "metadata": {},
   "source": [
    "Занятие 7. Списки\n",
    "Задача «Переставить min и max»\n",
    "Условие\n",
    "В списке все элементы различны. Поменяйте местами минимальный и максимальный элемент этого списка."
   ]
  },
  {
   "cell_type": "code",
   "execution_count": null,
   "metadata": {
    "collapsed": true
   },
   "outputs": [],
   "source": [
    "index_max = 0\n",
    "index_min = 0\n",
    "a = [int(i) for i in input().split()]\n",
    "for i in range(1, len(a)):\n",
    "    if a[i] > a[index_max]:\n",
    "        index_max = i\n",
    "    if a[i] < a[index_min]:\n",
    "        index_min = i\n",
    "a[index_max], a[index_min] = a[index_min], a[index_max]\n",
    "print(' '.join([str(i) for i in a]))"
   ]
  },
  {
   "cell_type": "markdown",
   "metadata": {},
   "source": [
    "Занятие 7. Списки\n",
    "Задача «Удалить элемент»\n",
    "Условие\n",
    "Дан список из чисел и индекс элемента в списке k. Удалите из списка элемент с индексом k, сдвинув влево все элементы, стоящие правее элемента с индексом k.\n",
    "Программа получает на вход список, затем число k. Программа сдвигает все элементы, а после этого удаляет последний элемент списка при помощи метода pop() без параметров.\n",
    "\n",
    "Программа должна осуществлять сдвиг непосредственно в списке, а не делать это при выводе элементов. Также нельзя использовать дополнительный список. Также не следует использовать метод pop(k) с параметром."
   ]
  },
  {
   "cell_type": "code",
   "execution_count": null,
   "metadata": {
    "collapsed": true
   },
   "outputs": [],
   "source": [
    "a=[int(i) for i in input().split()]\n",
    "k=int(input())\n",
    "\n",
    "for i in range(1,len(a)):\n",
    "    if i==k or k==0:\n",
    "        buf=a[i]\n",
    "    if i>k:\n",
    "        a[i-1]=a[i]\n",
    "a[i]=buf\n",
    "a.pop()\n",
    "a=\" \".join([str(i) for i in a])\n",
    "\n",
    "print(a)"
   ]
  },
  {
   "cell_type": "markdown",
   "metadata": {},
   "source": [
    "Занятие 7. Списки\n",
    "Задача «Вставить элемент»\n",
    "Условие\n",
    "Дан список целых чисел, число k и значение C. Необходимо вставить в список на позицию с индексом k элемент, равный C, сдвинув все элементы, имевшие индекс не менее k, вправо.\n",
    "Поскольку при этом количество элементов в списке увеличивается, после считывания списка в его конец нужно будет добавить новый элемент, используя метод append.\n",
    "\n",
    "Вставку необходимо осуществлять уже в считанном списке, не делая этого при выводе и не создавая дополнительного списка."
   ]
  },
  {
   "cell_type": "code",
   "execution_count": null,
   "metadata": {
    "collapsed": true
   },
   "outputs": [],
   "source": [
    "a=[int(i) for i in input().split()]\n",
    "k,c=[int(e) for e in input().split()]\n",
    "a.insert(k,c)\n",
    "a=(\" \".join([str(i)for i in a]))\n",
    "print(a)\n",
    "\"\"\"\n",
    "a=[int(i) for i in input().split()]\n",
    "k,c=[int(i) for i in input().split()]\n",
    "for i in range(len(a),k,-1):\n",
    "    a[i]=a[i-1]\n",
    "a.append(0)\n",
    "print(\" \".join([int(i) for i in a]))\n",
    "\"\"\""
   ]
  },
  {
   "cell_type": "markdown",
   "metadata": {},
   "source": [
    "Занятие 7. Списки\n",
    "Задача «Количество совпадающих пар»\n",
    "Условие\n",
    "Дан список чисел. Посчитайте, сколько в нем пар элементов, равных друг другу. Считается, что любые два элемента, равные друг другу образуют одну пару, которую необходимо посчитать."
   ]
  },
  {
   "cell_type": "code",
   "execution_count": null,
   "metadata": {
    "collapsed": true
   },
   "outputs": [],
   "source": [
    "a=[int(i) for i in input().split()]\n",
    "counter=0\n",
    "for i in range(len(a)):\n",
    "    k=0\n",
    "    while k+i+1<len(a):    \n",
    "        if a[i]==a[k+i+1]:\n",
    "            counter+=1\n",
    "        k+=1\n",
    "print(counter)"
   ]
  },
  {
   "cell_type": "markdown",
   "metadata": {},
   "source": [
    "Занятие 7. Списки\n",
    "Задача «Уникальные элементы»\n",
    "Условие\n",
    "Дан список. Выведите те его элементы, которые встречаются в списке только один раз. Элементы нужно выводить в том порядке, в котором они встречаются в списке."
   ]
  },
  {
   "cell_type": "code",
   "execution_count": null,
   "metadata": {
    "collapsed": true
   },
   "outputs": [],
   "source": [
    "a=[int(i) for i in input().split()]\n",
    "equivalent=[]\n",
    "for i in range(len(a)):\n",
    "    if a.count(a[i])==1: \n",
    "        equivalent.append(a[i])\n",
    "equivalent=\" \".join(str(p) for p in equivalent)\n",
    "print(equivalent)\n",
    "\n",
    "'''\n",
    "a = [int(s) for s in input().split()]\n",
    "for i in range(len(a)):\n",
    "    for j in range(len(a)):\n",
    "        if i != j and a[i] == a[j]:\n",
    "            break\n",
    "    else:\n",
    "        print(a[i], end=' ')\n",
    "'''"
   ]
  },
  {
   "cell_type": "markdown",
   "metadata": {},
   "source": [
    "Занятие 7. Списки\n",
    "Задача «Кегельбан»\n",
    "Условие\n",
    "N кеглей выставили в один ряд, занумеровав их слева направо числами от 1 до N. Затем по этому ряду бросили K шаров, при этом i-й шар сбил все кегли с номерами от li до ri включительно. Определите, какие кегли остались стоять на месте.\n",
    "Программа получает на вход количество кеглей N и количество бросков K. Далее идет K пар чисел li, ri, при этом 1≤ li≤ ri≤ N.\n",
    "\n",
    "Программа должна вывести последовательность из N символов, где j-й символ есть “I”, если j-я кегля осталась стоять, или “.”, если j-я кегля была сбита."
   ]
  },
  {
   "cell_type": "code",
   "execution_count": null,
   "metadata": {
    "collapsed": true
   },
   "outputs": [],
   "source": [
    "N, K = [int(i) for i in input().split()]\n",
    "skittles = ['I'] * N\n",
    "for j in range(K):\n",
    "    l, r = [int(i) for i in input().split()]\n",
    "    skittles[l-1:r] = ['.'] * (r-l+1)\n",
    "print(''.join([str(i) for i in skittles]))"
   ]
  },
  {
   "cell_type": "markdown",
   "metadata": {},
   "source": [
    "Занятие 7. Списки\n",
    "Задача «Ферзи»\n",
    "Условие\n",
    "Известно, что на доске 8×8 можно расставить 8 ферзей так, чтобы они не били друг друга. Вам дана расстановка 8 ферзей на доске, определите, есть ли среди них пара бьющих друг друга.\n",
    "Программа получает на вход восемь пар чисел, каждое число от 1 до 8 — координаты 8 ферзей. Если ферзи не бьют друг друга, выведите слово NO, иначе выведите YES."
   ]
  },
  {
   "cell_type": "code",
   "execution_count": null,
   "metadata": {
    "collapsed": true
   },
   "outputs": [],
   "source": [
    "n = 8\n",
    "x = [0] * n\n",
    "y = [0] * n\n",
    "result = 'NO'\n",
    "for i in range(n):\n",
    "    x[i], y[i] = [int(j) for j in input().split()]\n",
    "for i in range (n):\n",
    "    for j in range(i+1,n):\n",
    "        if x[i] == x[j] or y[i] == y[j] or abs(x[i] - x[j]) == abs(y[i] - y[j]):\n",
    "            result = 'YES'\n",
    "print(result)"
   ]
  },
  {
   "cell_type": "code",
   "execution_count": null,
   "metadata": {
    "collapsed": true
   },
   "outputs": [],
   "source": []
  }
 ],
 "metadata": {
  "kernelspec": {
   "display_name": "Python 3",
   "language": "python",
   "name": "python3"
  },
  "language_info": {
   "codemirror_mode": {
    "name": "ipython",
    "version": 3
   },
   "file_extension": ".py",
   "mimetype": "text/x-python",
   "name": "python",
   "nbconvert_exporter": "python",
   "pygments_lexer": "ipython3",
   "version": "3.6.6"
  }
 },
 "nbformat": 4,
 "nbformat_minor": 2
}
