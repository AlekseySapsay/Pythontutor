{
 "cells": [
  {
   "cell_type": "markdown",
   "metadata": {},
   "source": [
    "Занятие 5. Строки\n",
    "Задача «Делаем срезы»\n",
    "Условие\n",
    "Дана строка.\n",
    "\n",
    "Сначала выведите третий символ этой строки.\n",
    "\n",
    "Во второй строке выведите предпоследний символ этой строки.\n",
    "\n",
    "В третьей строке выведите первые пять символов этой строки.\n",
    "\n",
    "В четвертой строке выведите всю строку, кроме последних двух символов.\n",
    "\n",
    "В пятой строке выведите все символы с четными индексами (считая, что индексация начинается с 0, поэтому символы выводятся начиная с первого).\n",
    "\n",
    "В шестой строке выведите все символы с нечетными индексами, то есть начиная со второго символа строки.\n",
    "\n",
    "В седьмой строке выведите все символы в обратном порядке.\n",
    "\n",
    "В восьмой строке выведите все символы строки через один в обратном порядке, начиная с последнего.\n",
    "\n",
    "В девятой строке выведите длину данной строки."
   ]
  },
  {
   "cell_type": "code",
   "execution_count": null,
   "metadata": {
    "collapsed": true
   },
   "outputs": [],
   "source": [
    "s=str(input())\n",
    "print(s[2])\n",
    "print(s[-2])\n",
    "print(s[:5])\n",
    "print(s[:-2])\n",
    "print(s[0::2])\n",
    "print(s[1::2])\n",
    "print(s[::-1])\n",
    "print(s[::-2])\n",
    "print(len(s))"
   ]
  },
  {
   "cell_type": "markdown",
   "metadata": {},
   "source": [
    "Занятие 5. Строки\n",
    "Задача «Количество слов»\n",
    "Условие\n",
    "Дана строка, состоящая из слов, разделенных пробелами. Определите, сколько в ней слов. Используйте для решения задачи метод count.\n",
    "\n"
   ]
  },
  {
   "cell_type": "code",
   "execution_count": null,
   "metadata": {
    "collapsed": true
   },
   "outputs": [],
   "source": [
    "stroka=str(input())\n",
    "print(stroka.count(' ')+1)"
   ]
  },
  {
   "cell_type": "markdown",
   "metadata": {},
   "source": [
    "Занятие 5. Строки\n",
    "Задача «Две половинки»\n",
    "Условие\n",
    "Дана строка. Разрежьте ее на две равные части (если длина строки — четная, а если длина строки нечетная, то длина первой части должна быть на один символ больше). Переставьте эти две части местами, результат запишите в новую строку и выведите на экран.\n",
    "\n",
    "При решении этой задачи не стоит пользоваться инструкцией if."
   ]
  },
  {
   "cell_type": "code",
   "execution_count": null,
   "metadata": {
    "collapsed": true
   },
   "outputs": [],
   "source": [
    "stroka=str(input())\n",
    "bufer=len(stroka)//2+len(stroka)%2\n",
    "#print(stroka[:bufer]+stroka[bufer:] )\n",
    "print(stroka[bufer:]+ stroka[:bufer])\n"
   ]
  },
  {
   "cell_type": "markdown",
   "metadata": {},
   "source": [
    "Занятие 5. Строки\n",
    "Задача «Переставить два слова»\n",
    "Условие\n",
    "Дана строка, состоящая ровно из двух слов, разделенных пробелом. Переставьте эти слова местами. Результат запишите в строку и выведите получившуюся строку.\n",
    "\n",
    "При решении этой задачи не стоит пользоваться циклами и инструкцией if."
   ]
  },
  {
   "cell_type": "code",
   "execution_count": null,
   "metadata": {
    "collapsed": true
   },
   "outputs": [],
   "source": [
    "stroka=str(input())\n",
    "spaceIndex=stroka.find(\" \")\n",
    "word1=stroka[:int(spaceIndex)+1]\n",
    "word2=stroka[int(spaceIndex):]\n",
    "print(word2+\" \"+word1)\n"
   ]
  },
  {
   "cell_type": "markdown",
   "metadata": {},
   "source": [
    "Занятие 5. Строки\n",
    "Задача «Первое и последнее вхождения»\n",
    "Условие\n",
    "Дана строка. Если в этой строке буква f встречается только один раз, выведите её индекс. Если она встречается два и более раз, выведите индекс её первого и последнего появления. Если буква f в данной строке не встречается, ничего не выводите.\n",
    "\n",
    "При решении этой задачи не стоит использовать циклы."
   ]
  },
  {
   "cell_type": "code",
   "execution_count": null,
   "metadata": {
    "collapsed": true
   },
   "outputs": [],
   "source": [
    "s=input()\n",
    "fCount=s.count(\"f\")\n",
    "\n",
    "if fCount==1:\n",
    "    print(s.find(\"f\"))\n",
    "elif fCount>=2:\n",
    "    print(s.find(\"f\"))\n",
    "    print(s.rfind(\"f\"))\n"
   ]
  },
  {
   "cell_type": "markdown",
   "metadata": {},
   "source": [
    "Занятие 5. Строки\n",
    "Задача «Второе вхождение»\n",
    "Условие\n",
    "Дана строка. Найдите в этой строке второе вхождение буквы f, и выведите индекс этого вхождения. Если буква f в данной строке встречается только один раз, выведите число -1, а если не встречается ни разу, выведите число -2."
   ]
  },
  {
   "cell_type": "code",
   "execution_count": 6,
   "metadata": {},
   "outputs": [
    {
     "name": "stdout",
     "output_type": "stream",
     "text": [
      "asdfa\n"
     ]
    }
   ],
   "source": [
    "s=input()\n",
    "CountF=s.count(\"f\")\n",
    "\n",
    "if CountF==1:\n",
    "    print(-1)\n",
    "elif CountF>=2:\n",
    "    IndexF=s.find(\"f\")\n",
    "    StrBuf=s[int(IndexF)+1:]\n",
    "    IndexF+=StrBuf.find(\"f\")+1\n",
    "    print(IndexF)\n",
    "else:\n",
    "    print(-2)"
   ]
  },
  {
   "cell_type": "code",
   "execution_count": null,
   "metadata": {
    "collapsed": true
   },
   "outputs": [],
   "source": [
    "# еще один вариант решения задачи второго вхождения символа"
   ]
  },
  {
   "cell_type": "code",
   "execution_count": null,
   "metadata": {
    "collapsed": true
   },
   "outputs": [],
   "source": [
    "s = input()\n",
    "if s.count('f') == 1:\n",
    "    print(-1)\n",
    "elif s.count('f') < 1:\n",
    "    print(-2)\n",
    "else:\n",
    "    print(s.find('f', s.find('f') + 1))"
   ]
  },
  {
   "cell_type": "markdown",
   "metadata": {},
   "source": [
    "Занятие 5. Строки\n",
    "Задача «Удаление фрагмента»\n",
    "Условие\n",
    "Дана строка, в которой буква h встречается минимум два раза. Удалите из этой строки первое и последнее вхождение буквы h, а также все символы, находящиеся между ними."
   ]
  },
  {
   "cell_type": "code",
   "execution_count": null,
   "metadata": {
    "collapsed": true
   },
   "outputs": [],
   "source": [
    "s=input()\n",
    "\n",
    "StrBefore=s[:int(s.find(\"h\"))]\n",
    "StrAfte=s[int(s.rfind(\"h\")+1):]\n",
    "\n",
    "print(StrBefore+\"\"+StrAfte)"
   ]
  },
  {
   "cell_type": "markdown",
   "metadata": {},
   "source": [
    "Занятие 5. Строки\n",
    "Задача «Обращение фрагмента»\n",
    "Условие\n",
    "Дана строка, в которой буква h встречается как минимум два раза. Разверните последовательность символов, заключенную между первым и последним появлением буквы h, в противоположном порядке."
   ]
  },
  {
   "cell_type": "code",
   "execution_count": null,
   "metadata": {
    "collapsed": true
   },
   "outputs": [],
   "source": [
    "s=input()\n",
    "\n",
    "StrBefore=s[:int(s.find(\"h\"))]\n",
    "StrAfte=s[int(s.rfind(\"h\")+1):]\n",
    "StrMiddle=s[int(s.find(\"h\")):int(s.rfind(\"h\")+1)]\n",
    "#print(StrMiddle)\n",
    "s=(StrBefore+StrMiddle[::-1]+StrAfte)\n",
    "print(s)"
   ]
  },
  {
   "cell_type": "markdown",
   "metadata": {},
   "source": [
    "Занятие 5. Строки\n",
    "Задача «Замена подстроки»\n",
    "Условие\n",
    "Дана строка. Замените в этой строке все цифры 1 на слово one."
   ]
  },
  {
   "cell_type": "code",
   "execution_count": null,
   "metadata": {
    "collapsed": true
   },
   "outputs": [],
   "source": [
    "s=input()\n",
    "a=s.replace(\"1\",\"one\")\n",
    "print(a)"
   ]
  },
  {
   "cell_type": "markdown",
   "metadata": {},
   "source": [
    "Занятие 5. Строки\n",
    "Задача «Удаление символа»\n",
    "Условие\n",
    "Дана строка. Удалите из этой строки все символы @."
   ]
  },
  {
   "cell_type": "code",
   "execution_count": null,
   "metadata": {
    "collapsed": true
   },
   "outputs": [],
   "source": [
    "s=input()\n",
    "a=s.replace(\"@\",\"\")\n",
    "print(a)"
   ]
  },
  {
   "cell_type": "markdown",
   "metadata": {},
   "source": [
    "Занятие 5. Строки\n",
    "Задача «Замена внутри фрагмента»\n",
    "Условие\n",
    "Дана строка. Замените в этой строке все появления буквы h на букву H, кроме первого и последнего вхождения."
   ]
  },
  {
   "cell_type": "code",
   "execution_count": null,
   "metadata": {
    "collapsed": true
   },
   "outputs": [],
   "source": [
    "s=input()\n",
    "\n",
    "middle=s[s.find(\"h\")+1:s.rfind(\"h\")]\n",
    "middle=middle.replace(\"h\",\"H\")\n",
    "s=(s[:int(s.find(\"h\")+1)]+middle+s[int(s.rfind(\"h\")):])\n",
    "print(s)"
   ]
  },
  {
   "cell_type": "markdown",
   "metadata": {},
   "source": [
    "Занятие 5. Строки\n",
    "Задача «Удалить каждый третий символ»"
   ]
  },
  {
   "cell_type": "code",
   "execution_count": null,
   "metadata": {
    "collapsed": true
   },
   "outputs": [],
   "source": [
    "s = input()\n",
    "\n",
    "answer = \"\"\n",
    "for i in range(1,len(s),3):\n",
    "    answer += s[i:i+2]\n",
    "print(answer)"
   ]
  }
 ],
 "metadata": {
  "kernelspec": {
   "display_name": "Python 3",
   "language": "python",
   "name": "python3"
  },
  "language_info": {
   "codemirror_mode": {
    "name": "ipython",
    "version": 3
   },
   "file_extension": ".py",
   "mimetype": "text/x-python",
   "name": "python",
   "nbconvert_exporter": "python",
   "pygments_lexer": "ipython3",
   "version": "3.6.1"
  }
 },
 "nbformat": 4,
 "nbformat_minor": 2
}
