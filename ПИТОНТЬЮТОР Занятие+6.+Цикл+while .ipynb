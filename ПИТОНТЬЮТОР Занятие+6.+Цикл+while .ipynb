{
 "cells": [
  {
   "cell_type": "markdown",
   "metadata": {},
   "source": [
    "Занятие 6. Цикл while\n",
    "Задача «Список квадратов»\n",
    "Условие\n",
    "По данному целому числу N распечатайте все квадраты натуральных чисел, не превосходящие N, в порядке возрастания."
   ]
  },
  {
   "cell_type": "code",
   "execution_count": null,
   "metadata": {
    "collapsed": true
   },
   "outputs": [],
   "source": [
    "N=int(input())\n",
    "i=1\n",
    "answer=0\n",
    "while i**2<=N:\n",
    "    answer=i**2\n",
    "    i+=1\n",
    "    print(answer)"
   ]
  },
  {
   "cell_type": "markdown",
   "metadata": {},
   "source": [
    "Занятие 6. Цикл while\n",
    "Задача «Минимальный делитель»\n",
    "Условие\n",
    "Дано целое число, не меньшее 2. Выведите его наименьший натуральный делитель, отличный от 1."
   ]
  },
  {
   "cell_type": "code",
   "execution_count": null,
   "metadata": {
    "collapsed": true
   },
   "outputs": [],
   "source": [
    "N=int(input())\n",
    "i=N\n",
    "\n",
    "while i>1:\n",
    "    if N%i==0:\n",
    "        buf=i\n",
    "    i-=1\n",
    "print(buf)"
   ]
  },
  {
   "cell_type": "markdown",
   "metadata": {},
   "source": [
    "Занятие 6. Цикл while\n",
    "Задача «Степень двойки»\n",
    "Условие\n",
    "По данному натуральному числу N найдите наибольшую целую степень двойки, не превосходящую N. Выведите показатель степени и саму степень.\n",
    "\n",
    "Операцией возведения в степень пользоваться нельзя!"
   ]
  },
  {
   "cell_type": "code",
   "execution_count": null,
   "metadata": {
    "collapsed": true
   },
   "outputs": [],
   "source": [
    "N=int(input())\n",
    "i=0\n",
    "answer=1\n",
    "while answer*2<=N:\n",
    "    answer*=2\n",
    "    i+=1\n",
    "print(i,answer)"
   ]
  },
  {
   "cell_type": "markdown",
   "metadata": {},
   "source": [
    "Занятие 6. Цикл while\n",
    "Задача «Утренняя пробежка»\n",
    "Условие\n",
    "В первый день спортсмен пробежал x километров, а затем он каждый день увеличивал пробег на 10% от предыдущего значения. По данному числу y определите номер дня, на который пробег спортсмена составит не менее y километров.\n",
    "\n",
    "Программа получает на вход действительные числа x и y и должна вывести одно натуральное число."
   ]
  },
  {
   "cell_type": "code",
   "execution_count": null,
   "metadata": {
    "collapsed": true
   },
   "outputs": [],
   "source": [
    "x,y=[int(input()) for i in range(2)]\n",
    "i=0 #i=1\n",
    "\n",
    "while x<y:\n",
    "    x=(x+x*0.1)# x=x*1.1, x*=1.1\n",
    "    i+=1\n",
    "print(i+1)# print(i)"
   ]
  },
  {
   "cell_type": "markdown",
   "metadata": {},
   "source": [
    "Занятие 6. Цикл while\n",
    "Задача «Длина последовательности»\n",
    "Условие\n",
    "Программа получает на вход последовательность целых неотрицательных чисел, каждое число записано в отдельной строке. Последовательность завершается числом 0, при считывании которого программа должна закончить свою работу и вывести количество членов последовательности (не считая завершающего числа 0). Числа, следующие за числом 0, считывать не нужно."
   ]
  },
  {
   "cell_type": "code",
   "execution_count": null,
   "metadata": {
    "collapsed": true
   },
   "outputs": [],
   "source": [
    "a=int(input())\n",
    "i=0\n",
    "while a!=0:\n",
    "    a=int(input())\n",
    "    i+=1\n",
    "print(i)"
   ]
  },
  {
   "cell_type": "markdown",
   "metadata": {},
   "source": [
    "Занятие 6. Цикл while\n",
    "Задача «Сумма последовательности»\n",
    "Условие\n",
    "Определите сумму всех элементов последовательности, завершающейся числом 0. В этой и во всех следующих задачах числа, следующие за первым нулем, учитывать не нужно."
   ]
  },
  {
   "cell_type": "code",
   "execution_count": null,
   "metadata": {
    "collapsed": true
   },
   "outputs": [],
   "source": [
    "a=int(input())\n",
    "sum=0\n",
    "while a!=0:\n",
    "    sum+=a\n",
    "    a=int(input())\n",
    "print(sum)"
   ]
  },
  {
   "cell_type": "markdown",
   "metadata": {},
   "source": [
    "Занятие 6. Цикл while\n",
    "Задача «Среднее значение последовательности»\n",
    "Условие\n",
    "Определите среднее значение всех элементов последовательности, завершающейся числом 0."
   ]
  },
  {
   "cell_type": "code",
   "execution_count": null,
   "metadata": {
    "collapsed": true
   },
   "outputs": [],
   "source": [
    "a=int(input())\n",
    "sum=0\n",
    "i=0\n",
    "average=0\n",
    "while a!=0:\n",
    "    sum+=a\n",
    "    a=int(input())\n",
    "    i+=1\n",
    "    \n",
    "average=(sum/i)\n",
    "print(average)"
   ]
  },
  {
   "cell_type": "markdown",
   "metadata": {},
   "source": [
    "Занятие 6. Цикл while\n",
    "Задача «Максимум последовательности»\n",
    "Условие\n",
    "Последовательность состоит из натуральных чисел и завершается числом 0. Определите значение наибольшего элемента последовательности."
   ]
  },
  {
   "cell_type": "code",
   "execution_count": null,
   "metadata": {
    "collapsed": true
   },
   "outputs": [],
   "source": [
    "a=int(input())\n",
    "max=0\n",
    "while a!=0:\n",
    "    if a>max:\n",
    "        max=a\n",
    "    a=int(input())\n",
    "print(max)"
   ]
  },
  {
   "cell_type": "markdown",
   "metadata": {},
   "source": [
    "Занятие 6. Цикл while\n",
    "Задача «Индекс максимума последовательности»\n",
    "Условие\n",
    "Последовательность состоит из натуральных чисел и завершается числом 0. Определите индекс наибольшего элемента последовательности. Если наибольших элементов несколько, выведите индекс первого из них. Нумерация элементов начинается с нуля."
   ]
  },
  {
   "cell_type": "code",
   "execution_count": null,
   "metadata": {
    "collapsed": true
   },
   "outputs": [],
   "source": [
    "e = int(input())\n",
    "max= 0\n",
    "i= 0\n",
    "maxi= 0\n",
    "\n",
    "while e != 0:\n",
    "    if e > max:\n",
    "        max = e\n",
    "        maxi = i\n",
    "    e = int(input())\n",
    "    i += 1\n",
    "print(maxi)"
   ]
  },
  {
   "cell_type": "markdown",
   "metadata": {},
   "source": [
    "Занятие 6. Цикл while\n",
    "Задача «Количество четных элементов последовательности»\n",
    "Условие\n",
    "Определите количество четных элементов в последовательности, завершающейся числом 0."
   ]
  },
  {
   "cell_type": "code",
   "execution_count": null,
   "metadata": {
    "collapsed": true
   },
   "outputs": [],
   "source": [
    "a=int(input())\n",
    "index=0\n",
    "\n",
    "while a!=0:\n",
    "    if a%2==0:\n",
    "        index+=1\n",
    "        \n",
    "    a=int(input())\n",
    "print(index)"
   ]
  },
  {
   "cell_type": "markdown",
   "metadata": {},
   "source": [
    "Занятие 6. Цикл while\n",
    "Задача «Количество элементов, которые больше предыдущего»\n",
    "Условие\n",
    "Последовательность состоит из натуральных чисел и завершается числом 0. Определите, сколько элементов этой последовательности больше предыдущего элемента."
   ]
  },
  {
   "cell_type": "code",
   "execution_count": null,
   "metadata": {
    "collapsed": true
   },
   "outputs": [],
   "source": [
    "a=int(input())\n",
    "b=int(input())\n",
    "index=0\n",
    "\n",
    "while a!=0 and b!=0:\n",
    "    if b>a:\n",
    "        index+=1\n",
    "        a=b\n",
    "    else:\n",
    "        a=b\n",
    "    b=int(input())\n",
    "    \n",
    "print(index)"
   ]
  },
  {
   "cell_type": "markdown",
   "metadata": {},
   "source": [
    "Занятие 6. Цикл while\n",
    "Задача «Второй максимум»\n",
    "Условие\n",
    "Последовательность состоит из различных натуральных чисел и завершается числом 0. Определите значение второго по величине элемента в этой последовательности. Гарантируется, что в последовательности есть хотя бы два элемента."
   ]
  },
  {
   "cell_type": "code",
   "execution_count": null,
   "metadata": {
    "collapsed": true
   },
   "outputs": [],
   "source": [
    "a=int(input())\n",
    "max1=0\n",
    "max2=0\n",
    "\n",
    "while a!=0:\n",
    "    if a>max1:\n",
    "        max2=max1\n",
    "        max1=a\n",
    "    elif a>max2:\n",
    "        max2=a\n",
    "    a=int(input())\n",
    "\n",
    "print(max2)"
   ]
  },
  {
   "cell_type": "markdown",
   "metadata": {},
   "source": [
    "Занятие 6. Цикл while\n",
    "Задача «Количество элементов, равных максимуму»\n",
    "Условие\n",
    "Последовательность состоит из натуральных чисел и завершается числом 0. Определите, сколько элементов этой последовательности равны ее наибольшему элементу."
   ]
  },
  {
   "cell_type": "code",
   "execution_count": null,
   "metadata": {
    "collapsed": true
   },
   "outputs": [],
   "source": [
    "# первое решение с применение списка\n",
    "a=int(input())\n",
    "max=0\n",
    "alist=[]\n",
    "index=0\n",
    "\n",
    "while a!=0:\n",
    "    if a>max:\n",
    "        max=a\n",
    "    alist.append(a)\n",
    "    a=int(input())\n",
    "\n",
    "for i in range(len(alist)):\n",
    "    if alist[i]==max:\n",
    "        index+=1\n",
    "print(index)"
   ]
  },
  {
   "cell_type": "code",
   "execution_count": null,
   "metadata": {
    "collapsed": true
   },
   "outputs": [],
   "source": [
    "# второе решение без применение списка\n",
    "max = 0\n",
    "с = 1\n",
    "a = int(input())\n",
    "while a != 0:\n",
    "    if a > max:\n",
    "        max = a\n",
    "        с = 1\n",
    "    elif a == max:\n",
    "        с += 1\n",
    "    a = int(input())\n",
    "print(с)"
   ]
  },
  {
   "cell_type": "markdown",
   "metadata": {},
   "source": [
    "Занятие 6. Цикл while\n",
    "Задача «Числа Фибоначчи»\n",
    "Условие\n",
    "Последовательность Фибоначчи определяется так:\n",
    "φ0 = 0,  φ1 = 1,  φn = φn−1 + φn−2.\n",
    "\n",
    "По данному числу n определите n-е число Фибоначчи φn.\n",
    "\n",
    "Эту задачу можно решать и циклом for."
   ]
  },
  {
   "cell_type": "code",
   "execution_count": null,
   "metadata": {
    "collapsed": true
   },
   "outputs": [],
   "source": [
    "n=int(input())\n",
    "fn=f0=0\n",
    "f1=1\n",
    "i=0\n",
    "\n",
    "if n==1:\n",
    "    print(1)\n",
    "elif n==0:\n",
    "    print(0)\n",
    "else:\n",
    "    while i+1<n:\n",
    "        fn=f1+f0\n",
    "        f0,f1=f1,fn\n",
    "        i+=1\n",
    "    print(fn)"
   ]
  },
  {
   "cell_type": "markdown",
   "metadata": {},
   "source": [
    "Занятие 6. Цикл while\n",
    "Задача «Номер числа Фибоначчи»\n",
    "Условие\n",
    "Дано натуральное число A. Определите, каким по счету числом Фибоначчи оно является, то есть выведите такое число n, что φn = A. Если А не является числом Фибоначчи, выведите число -1."
   ]
  },
  {
   "cell_type": "code",
   "execution_count": null,
   "metadata": {
    "collapsed": true
   },
   "outputs": [],
   "source": [
    "A=int(input())\n",
    "f1=1\n",
    "i=f0=fn=0\n",
    "while i<A:\n",
    "    fn=f0+f1\n",
    "    f0,f1=f1,fn\n",
    "    i+=1\n",
    "    if fn==A:\n",
    "        print(i+1)\n",
    "        break\n",
    "    if fn>A or i>A:\n",
    "        print(-1)\n",
    "        break"
   ]
  },
  {
   "cell_type": "markdown",
   "metadata": {},
   "source": [
    "Занятие 6. Цикл while\n",
    "Задача «Максимальное число идущих подряд равных элементов»\n",
    "Условие\n",
    "Дана последовательность натуральных чисел, завершающаяся числом 0. Определите, какое наибольшее число подряд идущих элементов этой последовательности равны друг другу."
   ]
  },
  {
   "cell_type": "code",
   "execution_count": null,
   "metadata": {
    "collapsed": true
   },
   "outputs": [],
   "source": [
    "a=int(input())\n",
    "buf=i=0\n",
    "\n",
    "while a!=0:\n",
    "    b=int(input())\n",
    "    if a==b:\n",
    "        buf+=i\n",
    "        buf+=1\n",
    "        a=b\n",
    "    else:\n",
    "        a=b\n",
    "    i=0\n",
    "print(buf+1)\n"
   ]
  },
  {
   "cell_type": "markdown",
   "metadata": {
    "collapsed": true
   },
   "source": [
    "Занятие 6. Цикл while\n",
    "Задача «Стандартное отклонение»\n",
    "Условие\n",
    "Дана последовательность натуральных чисел x1, x2, ..., xn. Стандартным отклонением называется величина\n",
    "σ=(x1−s)2+(x2−s)2+…+(xn−s)2n−1−−−−−−−−−−−−−−−−−−−−−−−−−−−−−−−√\n",
    "где s=x1+x2+…+xnn — среднее арифметическое последовательности.\n",
    "\n",
    "Определите стандартное отклонение для данной последовательности натуральных чисел, завершающейся числом 0.\n",
    "\n"
   ]
  },
  {
   "cell_type": "code",
   "execution_count": 17,
   "metadata": {},
   "outputs": [
    {
     "name": "stdout",
     "output_type": "stream",
     "text": [
      "1\n",
      "7\n",
      "9\n",
      "0\n",
      "4.163331998932266\n"
     ]
    }
   ],
   "source": [
    "# решение без применения списков\n",
    "x = int(input())\n",
    "n = summ_squares=summ = 0\n",
    "\n",
    "while x != 0:\n",
    "    n += 1\n",
    "    summ += x\n",
    "    summ_squares += x ** 2\n",
    "    x = int(input())\n",
    "print(((summ_squares - summ ** 2 / n) / (n - 1))**0.5)"
   ]
  },
  {
   "cell_type": "code",
   "execution_count": 15,
   "metadata": {},
   "outputs": [
    {
     "name": "stdout",
     "output_type": "stream",
     "text": [
      "1\n",
      "7\n",
      "9\n",
      "0\n",
      "4.163331998932266\n"
     ]
    }
   ],
   "source": [
    "# решение со списком\n",
    "x=int(input())\n",
    "sigma=sumsigma=summ=S=n=i=0\n",
    "num=[]\n",
    "while x!=0:\n",
    "    num.append(x)\n",
    "    x=int(input())\n",
    "    n+=1\n",
    "\n",
    "while i<=n-1:\n",
    "    summ+=num[i]  #сумма для арифметического среднего\n",
    "    i+=1\n",
    "S=summ/n # среднеарифметическое\n",
    "n=len(num)\n",
    "\n",
    "for  i in range(n):\n",
    "    sumsigma+=(num[i]-S)**2 # сумма стандартного отклонения.\n",
    "sigma=(sumsigma/(n-1))**0.5 # стандартное отклонение\n",
    "print(sigma)"
   ]
  },
  {
   "cell_type": "code",
   "execution_count": null,
   "metadata": {
    "collapsed": true
   },
   "outputs": [],
   "source": []
  }
 ],
 "metadata": {
  "kernelspec": {
   "display_name": "Python 3",
   "language": "python",
   "name": "python3"
  },
  "language_info": {
   "codemirror_mode": {
    "name": "ipython",
    "version": 3
   },
   "file_extension": ".py",
   "mimetype": "text/x-python",
   "name": "python",
   "nbconvert_exporter": "python",
   "pygments_lexer": "ipython3",
   "version": "3.6.1"
  }
 },
 "nbformat": 4,
 "nbformat_minor": 2
}
