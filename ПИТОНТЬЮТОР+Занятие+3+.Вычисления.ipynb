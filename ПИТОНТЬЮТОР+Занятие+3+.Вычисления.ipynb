{
 "cells": [
  {
   "cell_type": "markdown",
   "metadata": {},
   "source": [
    "Занятие 3. Вычисления\n",
    "Задача «Последняя цифра числа»"
   ]
  },
  {
   "cell_type": "code",
   "execution_count": 4,
   "metadata": {},
   "outputs": [
    {
     "name": "stdout",
     "output_type": "stream",
     "text": [
      "1234\n",
      "4\n"
     ]
    }
   ],
   "source": [
    "num=int(input())\n",
    "num=num%10\n",
    "print(num)"
   ]
  },
  {
   "cell_type": "markdown",
   "metadata": {},
   "source": [
    "Задача «МКАД»\n",
    "Условие\n",
    "Длина Московской кольцевой автомобильной дороги —109 километров. Байкер Вася стартует с нулевого километра МКАД и едет со скоростью v километров в час. На какой отметке он остановится через t часов?\n",
    "\n",
    "Программа получает на вход значение v и t. Если v>0, то Вася движется в положительном направлении по МКАД, если же значение v<0, то в отрицательном.\n",
    "\n",
    "Программа должна вывести целое число от 0 до 108 — номер отметки, на которой остановится Вася."
   ]
  },
  {
   "cell_type": "code",
   "execution_count": 5,
   "metadata": {},
   "outputs": [
    {
     "name": "stdout",
     "output_type": "stream",
     "text": [
      "1\n",
      "1\n"
     ]
    }
   ],
   "source": [
    "V,t=[int(input()) for i in range(2)]\n",
    "\n",
    "answer=(V*t)%109\n",
    "print(answer)"
   ]
  },
  {
   "cell_type": "markdown",
   "metadata": {},
   "source": [
    "Задача «Дробная часть»\n",
    "Условие\n",
    "Дано положительное действительное число X. Выведите его дробную часть."
   ]
  },
  {
   "cell_type": "code",
   "execution_count": null,
   "metadata": {
    "collapsed": true
   },
   "outputs": [],
   "source": [
    "num=float(input())\n",
    "answer=(num-int(num))\n",
    "print(answer)\n"
   ]
  },
  {
   "cell_type": "markdown",
   "metadata": {},
   "source": [
    "Задача «Дробная часть»\n",
    "Условие\n",
    "Дано положительное действительное число X. Выведите его дробную часть."
   ]
  },
  {
   "cell_type": "code",
   "execution_count": 1,
   "metadata": {},
   "outputs": [
    {
     "name": "stdout",
     "output_type": "stream",
     "text": [
      "1\n",
      "0.0\n"
     ]
    }
   ],
   "source": [
    "num=float(input())\n",
    "answer=(num-int(num))\n",
    "print(answer)"
   ]
  },
  {
   "cell_type": "markdown",
   "metadata": {},
   "source": [
    "Задача «Первая цифра после точки»\n",
    "Условие\n",
    "Дано положительное действительное число X. Выведите его первую цифру после десятичной точки."
   ]
  },
  {
   "cell_type": "code",
   "execution_count": null,
   "metadata": {
    "collapsed": true
   },
   "outputs": [],
   "source": [
    "x=float(input())\n",
    "num=(((x-int(x))*10)//1)\n",
    "print(num)\n"
   ]
  },
  {
   "cell_type": "markdown",
   "metadata": {},
   "source": [
    "Задача «Конец уроков»\n",
    "Условие\n",
    "В некоторой школе занятия начинаются в 9:00. Продолжительность урока — 45 минут, после 1-го, 3-го, 5-го и т.д. уроков перемена 5 минут, а после 2-го, 4-го, 6-го и т.д. — 15 минут.\n",
    "\n",
    "Дан номер урока (число от 1 до 10). Определите, когда заканчивается указанный урок.\n",
    "\n",
    "Выведите два целых числа: время окончания урока в часах и минутах."
   ]
  },
  {
   "cell_type": "code",
   "execution_count": null,
   "metadata": {
    "collapsed": true
   },
   "outputs": [],
   "source": [
    "N=int(input())\n",
    "\n",
    "shortBreak=N//2\n",
    "longBreak=N-shortBreak-1\n",
    "Time=N*45+shortBreak*5+longBreak*15\n",
    "\n",
    "hours=9+(Time//60)\n",
    "minutes=Time%60\n",
    "\n",
    "print(str(hours)+\" \"+str(minutes))\n"
   ]
  },
  {
   "cell_type": "markdown",
   "metadata": {},
   "source": [
    "Задача «Автопробег»\n",
    "Условие\n",
    "За день машина проезжает n километров. Сколько дней нужно, чтобы проехать маршрут длиной m километров? Программа получает на вход числа n и m."
   ]
  },
  {
   "cell_type": "code",
   "execution_count": null,
   "metadata": {
    "collapsed": true
   },
   "outputs": [],
   "source": [
    "import math\n",
    "n,m=[int(input()) for i in range(2)]\n",
    "\n",
    "days=m//n\n",
    "if m%n!=0:\n",
    "    days=math.ceil(m/n)\n",
    "print(days)\n"
   ]
  },
  {
   "cell_type": "markdown",
   "metadata": {},
   "source": [
    "Задача «Стоимость покупки»\n",
    "Условие\n",
    "Пирожок в столовой стоит a рублей и b копеек. Определите, сколько рублей и копеек нужно заплатить за n пирожков. Программа получает на вход три числа: a, b, n, и должна вывести два числа: стоимость покупки в рублях и копейках."
   ]
  },
  {
   "cell_type": "code",
   "execution_count": null,
   "metadata": {
    "collapsed": true
   },
   "outputs": [],
   "source": [
    "a,b,n=[int(input()) for i in range(3)]\n",
    "\n",
    "coop=(a*100+b)*n\n",
    "rubles=coop//100\n",
    "kopeck=coop%100\n",
    "\n",
    "print(rubles,kopeck)"
   ]
  },
  {
   "cell_type": "markdown",
   "metadata": {},
   "source": [
    "Задача «Разность времен»\n",
    "Условие\n",
    "Даны значения двух моментов времени, принадлежащих одним и тем же суткам: часы, минуты и секунды для каждого из моментов времени. Известно, что второй момент времени наступил не раньше первого. Определите, сколько секунд прошло между двумя моментами времени.\n",
    "\n",
    "Программа на вход получает три целых числа: часы, минуты, секунды, задающие первый момент времени и три целых числа, задающих второй момент времени.\n",
    "\n",
    "Выведите число секунд между этими моментами времени.\n",
    "\n"
   ]
  },
  {
   "cell_type": "code",
   "execution_count": null,
   "metadata": {
    "collapsed": true
   },
   "outputs": [],
   "source": [
    "h1,m1,s1,h2,m2,s2=[int(input()) for i in range(6)]\n",
    "\n",
    "sec1=(h1*3600)+(m1*60)+s1\n",
    "sec2=(h2*3600)+(m2*60)+s2\n",
    "\n",
    "delta=sec2-sec1\n",
    "\n",
    "print(delta)"
   ]
  },
  {
   "cell_type": "markdown",
   "metadata": {},
   "source": [
    "Задача «Улитка»\n",
    "Условие\n",
    "Улитка ползет по вертикальному шесту высотой h метров, поднимаясь за день на a метров, а за ночь спускаясь на b метров. На какой день улитка доползет до вершины шеста?\n",
    "\n",
    "Программа получает на вход натуральные числа h, a, b.\n",
    "\n",
    "Программа должна вывести одно натуральное число. Гарантируется, что a>b."
   ]
  },
  {
   "cell_type": "code",
   "execution_count": null,
   "metadata": {
    "collapsed": true
   },
   "outputs": [],
   "source": [
    "from math import ceil\n",
    "h,a,b=[int(input()) for i in range(3)]\n",
    "\n",
    "delta=a-b\n",
    "n=ceil((h-a)/delta)+1\n",
    "\n",
    "print(n)"
   ]
  },
  {
   "cell_type": "markdown",
   "metadata": {},
   "source": [
    "Задача «Число десятков»\n",
    "Условие\n",
    "Дано натуральное число. Найдите число десятков в его десятичной записи."
   ]
  },
  {
   "cell_type": "code",
   "execution_count": null,
   "metadata": {
    "collapsed": true
   },
   "outputs": [],
   "source": [
    "n=int(input())\n",
    "\n",
    "answer=(n//10)%10\n",
    "print(answer)\n"
   ]
  },
  {
   "cell_type": "markdown",
   "metadata": {},
   "source": [
    "Задача «Сумма цифр»\n",
    "Условие\n",
    "Дано трехзначное число. Найдите сумму его цифр"
   ]
  },
  {
   "cell_type": "code",
   "execution_count": null,
   "metadata": {
    "collapsed": true
   },
   "outputs": [],
   "source": [
    "n=int(input())\n",
    "answer=(n//100)+(n//10%10)+(n%10)\n",
    "print(answer)\n"
   ]
  },
  {
   "cell_type": "markdown",
   "metadata": {},
   "source": [
    "Задача «Гипотенуза»\n",
    "Условие\n",
    "Дано два числа a и b. Выведите гипотенузу треугольника с заданными катетами.\n",
    "\n"
   ]
  },
  {
   "cell_type": "code",
   "execution_count": null,
   "metadata": {
    "collapsed": true
   },
   "outputs": [],
   "source": [
    "a,b=[int(input()) for i in range(2)]\n",
    "c=((a*a+b*b)**0.5)\n",
    "print(c)"
   ]
  },
  {
   "cell_type": "code",
   "execution_count": null,
   "metadata": {
    "collapsed": true
   },
   "outputs": [],
   "source": []
  }
 ],
 "metadata": {
  "kernelspec": {
   "display_name": "Python 3",
   "language": "python",
   "name": "python3"
  },
  "language_info": {
   "codemirror_mode": {
    "name": "ipython",
    "version": 3
   },
   "file_extension": ".py",
   "mimetype": "text/x-python",
   "name": "python",
   "nbconvert_exporter": "python",
   "pygments_lexer": "ipython3",
   "version": "3.6.1"
  }
 },
 "nbformat": 4,
 "nbformat_minor": 2
}
